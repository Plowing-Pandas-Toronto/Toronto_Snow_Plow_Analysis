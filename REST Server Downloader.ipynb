{
 "cells": [
  {
   "cell_type": "markdown",
   "id": "62ce5f9b-c4d9-4523-b5fa-0bc140162df6",
   "metadata": {},
   "source": [
    "The following code is used to download JSON files from the City of Toronto's PlowTO map REST Server "
   ]
  },
  {
   "cell_type": "code",
   "execution_count": null,
   "id": "9c702976-ff9d-4463-8a74-ede2d9978fa7",
   "metadata": {},
   "outputs": [],
   "source": [
    "def download_data():\n",
    "    data_in_path = r'src'\n",
    "    data_out_path = r'src/Collected Data'\n",
    "    url_df = pd.read_csv('url_list.csv',index_col=\"Unnamed: 0\")\n",
    "    \n",
    "    #find current datetime\n",
    "    d = datetime.utcnow()\n",
    "    unixtime = calendar.timegm(d.utctimetuple())\n",
    "    \n",
    "    #define output path for timestamp\n",
    "    timestamp_path = os.path.join(data_out_path,str(unixtime))\n",
    "    #create timestamp directory\n",
    "    os.mkdir(timestamp_path)\n",
    "    \n",
    "    i=0\n",
    "    for url in url_df[\"0\"]:\n",
    "        #check for response from server\n",
    "        response = requests.get(url)\n",
    "        if response.status_code == 200:\n",
    "            #collect json from server\n",
    "            url_json = response.json()\n",
    "            \n",
    "            #define file path\n",
    "            file_path = os.path.join(timestamp_path,str(i)+\".json\")\n",
    "            \n",
    "            #output file\n",
    "            out_file = open(file_path,\"w\")\n",
    "            json.dump(url_json, out_file, indent = 6)\n",
    "            out_file.close()\n",
    "        #move to next URL\n",
    "        i+=1\n",
    "#download_data()"
   ]
  },
  {
   "cell_type": "code",
   "execution_count": null,
   "id": "21d2327b-462e-4fd9-aab5-668d923495bf",
   "metadata": {},
   "outputs": [],
   "source": [
    "def downloader(wait_time=360):\n",
    "    while(True):\n",
    "        #find current datetime\n",
    "        d = datetime.utcnow()\n",
    "        print(\"Downloading Data at: \"+str(d))\n",
    "        #download data\n",
    "        download_data()\n",
    "        print(\"Download complete\")\n",
    "        #wait\n",
    "        time.sleep(wait_time)"
   ]
  }
 ],
 "metadata": {
  "kernelspec": {
   "display_name": "Python 3 (ipykernel)",
   "language": "python",
   "name": "python3"
  },
  "language_info": {
   "codemirror_mode": {
    "name": "ipython",
    "version": 3
   },
   "file_extension": ".py",
   "mimetype": "text/x-python",
   "name": "python",
   "nbconvert_exporter": "python",
   "pygments_lexer": "ipython3",
   "version": "3.9.7"
  }
 },
 "nbformat": 4,
 "nbformat_minor": 5
}
